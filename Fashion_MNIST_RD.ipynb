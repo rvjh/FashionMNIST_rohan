{
  "nbformat": 4,
  "nbformat_minor": 0,
  "metadata": {
    "colab": {
      "name": "Fashion_MNIST_RD.ipynb",
      "provenance": [],
      "collapsed_sections": [],
      "authorship_tag": "ABX9TyNm+cWM6n/Ho7+72mhqBHqa",
      "include_colab_link": true
    },
    "kernelspec": {
      "name": "python3",
      "display_name": "Python 3"
    },
    "language_info": {
      "name": "python"
    }
  },
  "cells": [
    {
      "cell_type": "markdown",
      "metadata": {
        "id": "view-in-github",
        "colab_type": "text"
      },
      "source": [
        "<a href=\"https://colab.research.google.com/github/rvjh/MyWays_FashionMNIST_rohan/blob/master/Fashion_MNIST_RD.ipynb\" target=\"_parent\"><img src=\"https://colab.research.google.com/assets/colab-badge.svg\" alt=\"Open In Colab\"/></a>"
      ]
    },
    {
      "cell_type": "code",
      "metadata": {
        "id": "QzSTpKsRZg01"
      },
      "source": [
        "from keras import models\n",
        "from keras import layers\n",
        "from keras.datasets import fashion_mnist\n",
        "import numpy as np\n",
        "import matplotlib.pyplot as plt\n",
        "from keras.utils import to_categorical, plot_model\n",
        "import operator\n",
        "import pandas as pd\n",
        "\n",
        "train_df=pd.read_csv('/content/fashion-mnist_train_cleaned.csv')\n",
        "test_df=pd.read_csv('/content/fashion-mnist_test_cleaned.csv')"
      ],
      "execution_count": null,
      "outputs": []
    },
    {
      "cell_type": "code",
      "metadata": {
        "id": "14AKrIktShYx"
      },
      "source": [
        "df = train_df.copy()\n",
        "df_test = test_df.copy()"
      ],
      "execution_count": null,
      "outputs": []
    },
    {
      "cell_type": "code",
      "metadata": {
        "colab": {
          "base_uri": "https://localhost:8080/",
          "height": 265
        },
        "id": "s2HopbfjSlRL",
        "outputId": "e57db937-0e0f-4d80-923e-0b504ed70633"
      },
      "source": [
        "#df.head()\n",
        "df_test.head()"
      ],
      "execution_count": null,
      "outputs": [
        {
          "output_type": "execute_result",
          "data": {
            "text/html": [
              "<div>\n",
              "<style scoped>\n",
              "    .dataframe tbody tr th:only-of-type {\n",
              "        vertical-align: middle;\n",
              "    }\n",
              "\n",
              "    .dataframe tbody tr th {\n",
              "        vertical-align: top;\n",
              "    }\n",
              "\n",
              "    .dataframe thead th {\n",
              "        text-align: right;\n",
              "    }\n",
              "</style>\n",
              "<table border=\"1\" class=\"dataframe\">\n",
              "  <thead>\n",
              "    <tr style=\"text-align: right;\">\n",
              "      <th></th>\n",
              "      <th>Unnamed: 0</th>\n",
              "      <th>label</th>\n",
              "      <th>pixel1</th>\n",
              "      <th>pixel2</th>\n",
              "      <th>pixel3</th>\n",
              "      <th>pixel4</th>\n",
              "      <th>pixel5</th>\n",
              "      <th>pixel6</th>\n",
              "      <th>pixel7</th>\n",
              "      <th>pixel8</th>\n",
              "      <th>pixel9</th>\n",
              "      <th>pixel10</th>\n",
              "      <th>pixel11</th>\n",
              "      <th>pixel12</th>\n",
              "      <th>pixel13</th>\n",
              "      <th>pixel14</th>\n",
              "      <th>pixel15</th>\n",
              "      <th>pixel16</th>\n",
              "      <th>pixel17</th>\n",
              "      <th>pixel18</th>\n",
              "      <th>pixel19</th>\n",
              "      <th>pixel20</th>\n",
              "      <th>pixel21</th>\n",
              "      <th>pixel22</th>\n",
              "      <th>pixel23</th>\n",
              "      <th>pixel24</th>\n",
              "      <th>pixel25</th>\n",
              "      <th>pixel26</th>\n",
              "      <th>pixel27</th>\n",
              "      <th>pixel28</th>\n",
              "      <th>pixel29</th>\n",
              "      <th>pixel30</th>\n",
              "      <th>pixel31</th>\n",
              "      <th>pixel32</th>\n",
              "      <th>pixel33</th>\n",
              "      <th>pixel34</th>\n",
              "      <th>pixel35</th>\n",
              "      <th>pixel36</th>\n",
              "      <th>pixel37</th>\n",
              "      <th>pixel38</th>\n",
              "      <th>...</th>\n",
              "      <th>pixel745</th>\n",
              "      <th>pixel746</th>\n",
              "      <th>pixel747</th>\n",
              "      <th>pixel748</th>\n",
              "      <th>pixel749</th>\n",
              "      <th>pixel750</th>\n",
              "      <th>pixel751</th>\n",
              "      <th>pixel752</th>\n",
              "      <th>pixel753</th>\n",
              "      <th>pixel754</th>\n",
              "      <th>pixel755</th>\n",
              "      <th>pixel756</th>\n",
              "      <th>pixel757</th>\n",
              "      <th>pixel758</th>\n",
              "      <th>pixel759</th>\n",
              "      <th>pixel760</th>\n",
              "      <th>pixel761</th>\n",
              "      <th>pixel762</th>\n",
              "      <th>pixel763</th>\n",
              "      <th>pixel764</th>\n",
              "      <th>pixel765</th>\n",
              "      <th>pixel766</th>\n",
              "      <th>pixel767</th>\n",
              "      <th>pixel768</th>\n",
              "      <th>pixel769</th>\n",
              "      <th>pixel770</th>\n",
              "      <th>pixel771</th>\n",
              "      <th>pixel772</th>\n",
              "      <th>pixel773</th>\n",
              "      <th>pixel774</th>\n",
              "      <th>pixel775</th>\n",
              "      <th>pixel776</th>\n",
              "      <th>pixel777</th>\n",
              "      <th>pixel778</th>\n",
              "      <th>pixel779</th>\n",
              "      <th>pixel780</th>\n",
              "      <th>pixel781</th>\n",
              "      <th>pixel782</th>\n",
              "      <th>pixel783</th>\n",
              "      <th>pixel784</th>\n",
              "    </tr>\n",
              "  </thead>\n",
              "  <tbody>\n",
              "    <tr>\n",
              "      <th>0</th>\n",
              "      <td>0</td>\n",
              "      <td>0</td>\n",
              "      <td>0</td>\n",
              "      <td>0</td>\n",
              "      <td>0</td>\n",
              "      <td>0</td>\n",
              "      <td>0</td>\n",
              "      <td>0</td>\n",
              "      <td>0</td>\n",
              "      <td>9</td>\n",
              "      <td>8</td>\n",
              "      <td>0</td>\n",
              "      <td>0</td>\n",
              "      <td>34</td>\n",
              "      <td>29</td>\n",
              "      <td>7</td>\n",
              "      <td>0</td>\n",
              "      <td>11</td>\n",
              "      <td>24</td>\n",
              "      <td>0</td>\n",
              "      <td>0</td>\n",
              "      <td>3</td>\n",
              "      <td>3</td>\n",
              "      <td>1</td>\n",
              "      <td>0</td>\n",
              "      <td>1</td>\n",
              "      <td>1</td>\n",
              "      <td>0</td>\n",
              "      <td>0</td>\n",
              "      <td>0</td>\n",
              "      <td>0</td>\n",
              "      <td>0</td>\n",
              "      <td>4</td>\n",
              "      <td>0</td>\n",
              "      <td>0</td>\n",
              "      <td>1</td>\n",
              "      <td>0</td>\n",
              "      <td>0</td>\n",
              "      <td>0</td>\n",
              "      <td>0</td>\n",
              "      <td>...</td>\n",
              "      <td>242.0</td>\n",
              "      <td>245.0</td>\n",
              "      <td>224.0</td>\n",
              "      <td>245.0</td>\n",
              "      <td>234.0</td>\n",
              "      <td>0.0</td>\n",
              "      <td>3.0</td>\n",
              "      <td>0.0</td>\n",
              "      <td>0.0</td>\n",
              "      <td>0.0</td>\n",
              "      <td>0.0</td>\n",
              "      <td>0.0</td>\n",
              "      <td>0.0</td>\n",
              "      <td>0.0</td>\n",
              "      <td>0.0</td>\n",
              "      <td>0.0</td>\n",
              "      <td>0.0</td>\n",
              "      <td>0.0</td>\n",
              "      <td>0.0</td>\n",
              "      <td>37.0</td>\n",
              "      <td>69.0</td>\n",
              "      <td>94.0</td>\n",
              "      <td>123.0</td>\n",
              "      <td>127.0</td>\n",
              "      <td>138.0</td>\n",
              "      <td>138.0</td>\n",
              "      <td>142.0</td>\n",
              "      <td>145.0</td>\n",
              "      <td>135.0</td>\n",
              "      <td>125.0</td>\n",
              "      <td>103.0</td>\n",
              "      <td>87.0</td>\n",
              "      <td>56.0</td>\n",
              "      <td>0.0</td>\n",
              "      <td>0.0</td>\n",
              "      <td>0.0</td>\n",
              "      <td>0.0</td>\n",
              "      <td>0.0</td>\n",
              "      <td>0.0</td>\n",
              "      <td>0.0</td>\n",
              "    </tr>\n",
              "    <tr>\n",
              "      <th>1</th>\n",
              "      <td>1</td>\n",
              "      <td>1</td>\n",
              "      <td>0</td>\n",
              "      <td>0</td>\n",
              "      <td>0</td>\n",
              "      <td>0</td>\n",
              "      <td>0</td>\n",
              "      <td>0</td>\n",
              "      <td>0</td>\n",
              "      <td>0</td>\n",
              "      <td>0</td>\n",
              "      <td>0</td>\n",
              "      <td>0</td>\n",
              "      <td>209</td>\n",
              "      <td>190</td>\n",
              "      <td>181</td>\n",
              "      <td>150</td>\n",
              "      <td>170</td>\n",
              "      <td>193</td>\n",
              "      <td>180</td>\n",
              "      <td>219</td>\n",
              "      <td>5</td>\n",
              "      <td>0</td>\n",
              "      <td>0</td>\n",
              "      <td>0</td>\n",
              "      <td>0</td>\n",
              "      <td>0</td>\n",
              "      <td>0</td>\n",
              "      <td>0</td>\n",
              "      <td>0</td>\n",
              "      <td>0</td>\n",
              "      <td>0</td>\n",
              "      <td>0</td>\n",
              "      <td>0</td>\n",
              "      <td>0</td>\n",
              "      <td>0</td>\n",
              "      <td>0</td>\n",
              "      <td>0</td>\n",
              "      <td>0</td>\n",
              "      <td>0</td>\n",
              "      <td>...</td>\n",
              "      <td>248.0</td>\n",
              "      <td>238.0</td>\n",
              "      <td>80.0</td>\n",
              "      <td>0.0</td>\n",
              "      <td>0.0</td>\n",
              "      <td>0.0</td>\n",
              "      <td>0.0</td>\n",
              "      <td>0.0</td>\n",
              "      <td>0.0</td>\n",
              "      <td>0.0</td>\n",
              "      <td>0.0</td>\n",
              "      <td>0.0</td>\n",
              "      <td>0.0</td>\n",
              "      <td>0.0</td>\n",
              "      <td>0.0</td>\n",
              "      <td>0.0</td>\n",
              "      <td>0.0</td>\n",
              "      <td>0.0</td>\n",
              "      <td>0.0</td>\n",
              "      <td>0.0</td>\n",
              "      <td>0.0</td>\n",
              "      <td>0.0</td>\n",
              "      <td>0.0</td>\n",
              "      <td>174.0</td>\n",
              "      <td>233.0</td>\n",
              "      <td>155.0</td>\n",
              "      <td>0.0</td>\n",
              "      <td>65.0</td>\n",
              "      <td>235.0</td>\n",
              "      <td>216.0</td>\n",
              "      <td>34.0</td>\n",
              "      <td>0.0</td>\n",
              "      <td>0.0</td>\n",
              "      <td>0.0</td>\n",
              "      <td>0.0</td>\n",
              "      <td>0.0</td>\n",
              "      <td>0.0</td>\n",
              "      <td>0.0</td>\n",
              "      <td>0.0</td>\n",
              "      <td>0.0</td>\n",
              "    </tr>\n",
              "    <tr>\n",
              "      <th>2</th>\n",
              "      <td>2</td>\n",
              "      <td>2</td>\n",
              "      <td>0</td>\n",
              "      <td>0</td>\n",
              "      <td>0</td>\n",
              "      <td>0</td>\n",
              "      <td>0</td>\n",
              "      <td>0</td>\n",
              "      <td>14</td>\n",
              "      <td>53</td>\n",
              "      <td>99</td>\n",
              "      <td>17</td>\n",
              "      <td>0</td>\n",
              "      <td>0</td>\n",
              "      <td>0</td>\n",
              "      <td>0</td>\n",
              "      <td>0</td>\n",
              "      <td>0</td>\n",
              "      <td>0</td>\n",
              "      <td>0</td>\n",
              "      <td>12</td>\n",
              "      <td>94</td>\n",
              "      <td>68</td>\n",
              "      <td>14</td>\n",
              "      <td>0</td>\n",
              "      <td>0</td>\n",
              "      <td>0</td>\n",
              "      <td>0</td>\n",
              "      <td>0</td>\n",
              "      <td>0</td>\n",
              "      <td>0</td>\n",
              "      <td>0</td>\n",
              "      <td>0</td>\n",
              "      <td>0</td>\n",
              "      <td>0</td>\n",
              "      <td>38</td>\n",
              "      <td>106</td>\n",
              "      <td>94</td>\n",
              "      <td>89</td>\n",
              "      <td>94</td>\n",
              "      <td>...</td>\n",
              "      <td>0.0</td>\n",
              "      <td>0.0</td>\n",
              "      <td>0.0</td>\n",
              "      <td>0.0</td>\n",
              "      <td>0.0</td>\n",
              "      <td>0.0</td>\n",
              "      <td>87.0</td>\n",
              "      <td>12.0</td>\n",
              "      <td>26.0</td>\n",
              "      <td>0.0</td>\n",
              "      <td>0.0</td>\n",
              "      <td>0.0</td>\n",
              "      <td>0.0</td>\n",
              "      <td>0.0</td>\n",
              "      <td>0.0</td>\n",
              "      <td>0.0</td>\n",
              "      <td>46.0</td>\n",
              "      <td>50.0</td>\n",
              "      <td>29.0</td>\n",
              "      <td>0.0</td>\n",
              "      <td>2.0</td>\n",
              "      <td>0.0</td>\n",
              "      <td>0.0</td>\n",
              "      <td>0.0</td>\n",
              "      <td>0.0</td>\n",
              "      <td>0.0</td>\n",
              "      <td>0.0</td>\n",
              "      <td>0.0</td>\n",
              "      <td>0.0</td>\n",
              "      <td>0.0</td>\n",
              "      <td>0.0</td>\n",
              "      <td>0.0</td>\n",
              "      <td>0.0</td>\n",
              "      <td>0.0</td>\n",
              "      <td>63.0</td>\n",
              "      <td>53.0</td>\n",
              "      <td>31.0</td>\n",
              "      <td>0.0</td>\n",
              "      <td>0.0</td>\n",
              "      <td>0.0</td>\n",
              "    </tr>\n",
              "    <tr>\n",
              "      <th>3</th>\n",
              "      <td>3</td>\n",
              "      <td>2</td>\n",
              "      <td>0</td>\n",
              "      <td>0</td>\n",
              "      <td>0</td>\n",
              "      <td>0</td>\n",
              "      <td>0</td>\n",
              "      <td>0</td>\n",
              "      <td>0</td>\n",
              "      <td>0</td>\n",
              "      <td>0</td>\n",
              "      <td>161</td>\n",
              "      <td>212</td>\n",
              "      <td>138</td>\n",
              "      <td>150</td>\n",
              "      <td>169</td>\n",
              "      <td>164</td>\n",
              "      <td>176</td>\n",
              "      <td>202</td>\n",
              "      <td>255</td>\n",
              "      <td>183</td>\n",
              "      <td>26</td>\n",
              "      <td>0</td>\n",
              "      <td>0</td>\n",
              "      <td>0</td>\n",
              "      <td>0</td>\n",
              "      <td>0</td>\n",
              "      <td>0</td>\n",
              "      <td>0</td>\n",
              "      <td>0</td>\n",
              "      <td>0</td>\n",
              "      <td>0</td>\n",
              "      <td>0</td>\n",
              "      <td>1</td>\n",
              "      <td>0</td>\n",
              "      <td>0</td>\n",
              "      <td>129</td>\n",
              "      <td>221</td>\n",
              "      <td>255</td>\n",
              "      <td>255</td>\n",
              "      <td>...</td>\n",
              "      <td>255.0</td>\n",
              "      <td>255.0</td>\n",
              "      <td>254.0</td>\n",
              "      <td>252.0</td>\n",
              "      <td>255.0</td>\n",
              "      <td>101.0</td>\n",
              "      <td>196.0</td>\n",
              "      <td>254.0</td>\n",
              "      <td>252.0</td>\n",
              "      <td>100.0</td>\n",
              "      <td>0.0</td>\n",
              "      <td>0.0</td>\n",
              "      <td>0.0</td>\n",
              "      <td>0.0</td>\n",
              "      <td>0.0</td>\n",
              "      <td>168.0</td>\n",
              "      <td>232.0</td>\n",
              "      <td>225.0</td>\n",
              "      <td>0.0</td>\n",
              "      <td>41.0</td>\n",
              "      <td>172.0</td>\n",
              "      <td>147.0</td>\n",
              "      <td>148.0</td>\n",
              "      <td>153.0</td>\n",
              "      <td>155.0</td>\n",
              "      <td>146.0</td>\n",
              "      <td>137.0</td>\n",
              "      <td>141.0</td>\n",
              "      <td>143.0</td>\n",
              "      <td>137.0</td>\n",
              "      <td>137.0</td>\n",
              "      <td>126.0</td>\n",
              "      <td>140.0</td>\n",
              "      <td>0.0</td>\n",
              "      <td>133.0</td>\n",
              "      <td>224.0</td>\n",
              "      <td>222.0</td>\n",
              "      <td>56.0</td>\n",
              "      <td>0.0</td>\n",
              "      <td>0.0</td>\n",
              "    </tr>\n",
              "    <tr>\n",
              "      <th>4</th>\n",
              "      <td>4</td>\n",
              "      <td>3</td>\n",
              "      <td>0</td>\n",
              "      <td>0</td>\n",
              "      <td>0</td>\n",
              "      <td>0</td>\n",
              "      <td>0</td>\n",
              "      <td>0</td>\n",
              "      <td>0</td>\n",
              "      <td>0</td>\n",
              "      <td>0</td>\n",
              "      <td>0</td>\n",
              "      <td>37</td>\n",
              "      <td>0</td>\n",
              "      <td>0</td>\n",
              "      <td>0</td>\n",
              "      <td>0</td>\n",
              "      <td>0</td>\n",
              "      <td>0</td>\n",
              "      <td>17</td>\n",
              "      <td>0</td>\n",
              "      <td>0</td>\n",
              "      <td>0</td>\n",
              "      <td>0</td>\n",
              "      <td>0</td>\n",
              "      <td>0</td>\n",
              "      <td>0</td>\n",
              "      <td>0</td>\n",
              "      <td>0</td>\n",
              "      <td>0</td>\n",
              "      <td>0</td>\n",
              "      <td>0</td>\n",
              "      <td>0</td>\n",
              "      <td>0</td>\n",
              "      <td>0</td>\n",
              "      <td>0</td>\n",
              "      <td>0</td>\n",
              "      <td>0</td>\n",
              "      <td>21</td>\n",
              "      <td>204</td>\n",
              "      <td>...</td>\n",
              "      <td>0.0</td>\n",
              "      <td>2.0</td>\n",
              "      <td>0.0</td>\n",
              "      <td>0.0</td>\n",
              "      <td>0.0</td>\n",
              "      <td>0.0</td>\n",
              "      <td>0.0</td>\n",
              "      <td>0.0</td>\n",
              "      <td>0.0</td>\n",
              "      <td>0.0</td>\n",
              "      <td>0.0</td>\n",
              "      <td>0.0</td>\n",
              "      <td>0.0</td>\n",
              "      <td>0.0</td>\n",
              "      <td>0.0</td>\n",
              "      <td>0.0</td>\n",
              "      <td>0.0</td>\n",
              "      <td>0.0</td>\n",
              "      <td>0.0</td>\n",
              "      <td>0.0</td>\n",
              "      <td>0.0</td>\n",
              "      <td>0.0</td>\n",
              "      <td>0.0</td>\n",
              "      <td>0.0</td>\n",
              "      <td>1.0</td>\n",
              "      <td>0.0</td>\n",
              "      <td>2.0</td>\n",
              "      <td>69.0</td>\n",
              "      <td>0.0</td>\n",
              "      <td>2.0</td>\n",
              "      <td>0.0</td>\n",
              "      <td>0.0</td>\n",
              "      <td>0.0</td>\n",
              "      <td>0.0</td>\n",
              "      <td>0.0</td>\n",
              "      <td>0.0</td>\n",
              "      <td>0.0</td>\n",
              "      <td>0.0</td>\n",
              "      <td>0.0</td>\n",
              "      <td>0.0</td>\n",
              "    </tr>\n",
              "  </tbody>\n",
              "</table>\n",
              "<p>5 rows × 786 columns</p>\n",
              "</div>"
            ],
            "text/plain": [
              "   Unnamed: 0  label  pixel1  pixel2  ...  pixel781  pixel782  pixel783  pixel784\n",
              "0           0      0       0       0  ...       0.0       0.0       0.0       0.0\n",
              "1           1      1       0       0  ...       0.0       0.0       0.0       0.0\n",
              "2           2      2       0       0  ...      31.0       0.0       0.0       0.0\n",
              "3           3      2       0       0  ...     222.0      56.0       0.0       0.0\n",
              "4           4      3       0       0  ...       0.0       0.0       0.0       0.0\n",
              "\n",
              "[5 rows x 786 columns]"
            ]
          },
          "metadata": {
            "tags": []
          },
          "execution_count": 5
        }
      ]
    },
    {
      "cell_type": "code",
      "metadata": {
        "id": "jMCkdeN9rZGe"
      },
      "source": [
        "df=df.drop('Unnamed: 0',1)\n",
        "df_test=df_test.drop('Unnamed: 0',1)"
      ],
      "execution_count": null,
      "outputs": []
    },
    {
      "cell_type": "code",
      "metadata": {
        "colab": {
          "base_uri": "https://localhost:8080/"
        },
        "id": "oQfWSWbNSunQ",
        "outputId": "b18a8066-2b86-4726-c107-d615d167571e"
      },
      "source": [
        "print('Train: ', df.shape)\n",
        "print('Test: ', df_test.shape)"
      ],
      "execution_count": null,
      "outputs": [
        {
          "output_type": "stream",
          "text": [
            "Train:  (3275, 785)\n",
            "Test:  (3277, 785)\n"
          ],
          "name": "stdout"
        }
      ]
    },
    {
      "cell_type": "code",
      "metadata": {
        "colab": {
          "base_uri": "https://localhost:8080/"
        },
        "id": "8qJY3wxqS0xM",
        "outputId": "44d4df6e-3ad0-4acf-b46c-0e25adc9844b"
      },
      "source": [
        "#df.label.unique()\n",
        "df_test.label.unique()"
      ],
      "execution_count": null,
      "outputs": [
        {
          "output_type": "execute_result",
          "data": {
            "text/plain": [
              "array([0, 1, 2, 3])"
            ]
          },
          "metadata": {
            "tags": []
          },
          "execution_count": 251
        }
      ]
    },
    {
      "cell_type": "code",
      "metadata": {
        "colab": {
          "base_uri": "https://localhost:8080/"
        },
        "id": "cB5a0egFS4L3",
        "outputId": "6c58f226-23b0-4624-8f7b-600d46973d08"
      },
      "source": [
        "#df.isnull().any().sum()\n",
        "df_test.isnull().any().sum()"
      ],
      "execution_count": null,
      "outputs": [
        {
          "output_type": "execute_result",
          "data": {
            "text/plain": [
              "0"
            ]
          },
          "metadata": {
            "tags": []
          },
          "execution_count": 252
        }
      ]
    },
    {
      "cell_type": "code",
      "metadata": {
        "id": "O6JFlTowS8pK"
      },
      "source": [
        "clothing = {0 : 'T-shirt/top',\n",
        "            1 : 'Trouser',\n",
        "            2 : 'Pullover',\n",
        "            3 : 'Dress'}"
      ],
      "execution_count": null,
      "outputs": []
    },
    {
      "cell_type": "code",
      "metadata": {
        "colab": {
          "base_uri": "https://localhost:8080/",
          "height": 591
        },
        "id": "Q7J7665_TA7f",
        "outputId": "368bf50b-c6e3-42de-cf82-daa015f88ed4"
      },
      "source": [
        "import matplotlib.pyplot as plt\n",
        "\n",
        "fig, axes = plt.subplots(4, 4, figsize = (10,10))\n",
        "for row in axes:\n",
        "    for axe in row:\n",
        "        index = np.random.randint(100)\n",
        "        img = df.drop('label', axis=1).values[index].reshape(28,28)\n",
        "        cloths = df['label'][index]\n",
        "        axe.imshow(img, cmap='gray')\n",
        "        axe.set_title(clothing[cloths])\n",
        "        axe.set_axis_off()"
      ],
      "execution_count": null,
      "outputs": [
        {
          "output_type": "display_data",
          "data": {
            "image/png": "[encoded data removed]",
            "text/plain": [
              "<Figure size 720x720 with 16 Axes>"
            ]
          },
          "metadata": {
            "tags": [],
            "needs_background": "light"
          }
        }
      ]
    },
    {
      "cell_type": "code",
      "metadata": {
        "colab": {
          "base_uri": "https://localhost:8080/"
        },
        "id": "ZlmpToVvTGoh",
        "outputId": "66d90e18-21b2-4e9c-d7a0-07b3fbe90402"
      },
      "source": [
        "#df['label'].value_counts()\n",
        "df_test['label'].value_counts()"
      ],
      "execution_count": null,
      "outputs": [
        {
          "output_type": "execute_result",
          "data": {
            "text/plain": [
              "3    1000\n",
              "1    1000\n",
              "2    1000\n",
              "0    1000\n",
              "Name: label, dtype: int64"
            ]
          },
          "metadata": {
            "tags": []
          },
          "execution_count": 255
        }
      ]
    },
    {
      "cell_type": "code",
      "metadata": {
        "colab": {
          "base_uri": "https://localhost:8080/",
          "height": 350
        },
        "id": "bvQQPz_pTNtA",
        "outputId": "1fab902e-148d-43b2-efea-6ec9c7fe0f99"
      },
      "source": [
        "import seaborn as sns\n",
        "sns.factorplot(x='label', data=df, kind='count', size=3, aspect= 1.5)"
      ],
      "execution_count": null,
      "outputs": [
        {
          "output_type": "stream",
          "text": [
            "/usr/local/lib/python3.7/dist-packages/seaborn/categorical.py:3714: UserWarning: The `factorplot` function has been renamed to `catplot`. The original name will be removed in a future release. Please update your code. Note that the default `kind` in `factorplot` (`'point'`) has changed `'strip'` in `catplot`.\n",
            "  warnings.warn(msg)\n",
            "/usr/local/lib/python3.7/dist-packages/seaborn/categorical.py:3720: UserWarning: The `size` parameter has been renamed to `height`; please update your code.\n",
            "  warnings.warn(msg, UserWarning)\n"
          ],
          "name": "stderr"
        },
        {
          "output_type": "execute_result",
          "data": {
            "text/plain": [
              "<seaborn.axisgrid.FacetGrid at 0x7f65528a5d10>"
            ]
          },
          "metadata": {
            "tags": []
          },
          "execution_count": 256
        },
        {
          "output_type": "display_data",
          "data": {
            "image/png": "[encoded data removed]",
            "text/plain": [
              "<Figure size 324x216 with 1 Axes>"
            ]
          },
          "metadata": {
            "tags": [],
            "needs_background": "light"
          }
        }
      ]
    },
    {
      "cell_type": "code",
      "metadata": {
        "colab": {
          "base_uri": "https://localhost:8080/",
          "height": 350
        },
        "id": "Z18MUF8dTSty",
        "outputId": "62e1cdd5-d2be-4457-81ca-edf53d90cdea"
      },
      "source": [
        "sns.factorplot(x='label', data=df_test, kind='count', size=3, aspect= 1.5)"
      ],
      "execution_count": null,
      "outputs": [
        {
          "output_type": "stream",
          "text": [
            "/usr/local/lib/python3.7/dist-packages/seaborn/categorical.py:3714: UserWarning: The `factorplot` function has been renamed to `catplot`. The original name will be removed in a future release. Please update your code. Note that the default `kind` in `factorplot` (`'point'`) has changed `'strip'` in `catplot`.\n",
            "  warnings.warn(msg)\n",
            "/usr/local/lib/python3.7/dist-packages/seaborn/categorical.py:3720: UserWarning: The `size` parameter has been renamed to `height`; please update your code.\n",
            "  warnings.warn(msg, UserWarning)\n"
          ],
          "name": "stderr"
        },
        {
          "output_type": "execute_result",
          "data": {
            "text/plain": [
              "<seaborn.axisgrid.FacetGrid at 0x7f6552886c10>"
            ]
          },
          "metadata": {
            "tags": []
          },
          "execution_count": 257
        },
        {
          "output_type": "display_data",
          "data": {
            "image/png": "[encoded data removed]",
            "text/plain": [
              "<Figure size 324x216 with 1 Axes>"
            ]
          },
          "metadata": {
            "tags": [],
            "needs_background": "light"
          }
        }
      ]
    },
    {
      "cell_type": "code",
      "metadata": {
        "id": "R7I0PmYerfl8"
      },
      "source": [
        "X = df.iloc[:,1:]\n",
        "Y = df.iloc[:,0]"
      ],
      "execution_count": null,
      "outputs": []
    },
    {
      "cell_type": "code",
      "metadata": {
        "id": "BJPYqX1fvYqN"
      },
      "source": [
        "X = np.array(X)\n",
        "Y = np.array(Y)"
      ],
      "execution_count": null,
      "outputs": []
    },
    {
      "cell_type": "code",
      "metadata": {
        "id": "ny-kfO61voW6"
      },
      "source": [
        "from sklearn.model_selection import train_test_split\n",
        "\n",
        "x_train, x_test, y_train, y_test = train_test_split(X, Y, test_size=0.3)"
      ],
      "execution_count": null,
      "outputs": []
    },
    {
      "cell_type": "code",
      "metadata": {
        "colab": {
          "base_uri": "https://localhost:8080/"
        },
        "id": "sOV9KboUvoUF",
        "outputId": "32eee72b-9587-41cd-8ee0-856c4bfd8a6f"
      },
      "source": [
        "print(x_train.shape,x_test.shape,y_train.shape,y_test.shape)"
      ],
      "execution_count": null,
      "outputs": [
        {
          "output_type": "stream",
          "text": [
            "(16800, 784) (7200, 784) (16800,) (7200,)\n"
          ],
          "name": "stdout"
        }
      ]
    },
    {
      "cell_type": "markdown",
      "metadata": {
        "id": "7FEzbk6_UDMt"
      },
      "source": [
        "Support Vector Machine"
      ]
    },
    {
      "cell_type": "code",
      "metadata": {
        "colab": {
          "base_uri": "https://localhost:8080/"
        },
        "id": "3htEKD5mvoRj",
        "outputId": "3887bdbd-1105-4531-8755-29f3c8d45201"
      },
      "source": [
        "from sklearn import svm\n",
        "from sklearn.metrics import accuracy_score,confusion_matrix\n",
        "clf = svm.SVC(gamma=0.1, kernel='poly')\n",
        "clf.fit(x_train,y_train)"
      ],
      "execution_count": null,
      "outputs": [
        {
          "output_type": "execute_result",
          "data": {
            "text/plain": [
              "SVC(C=1.0, break_ties=False, cache_size=200, class_weight=None, coef0=0.0,\n",
              "    decision_function_shape='ovr', degree=3, gamma=0.1, kernel='poly',\n",
              "    max_iter=-1, probability=False, random_state=None, shrinking=True,\n",
              "    tol=0.001, verbose=False)"
            ]
          },
          "metadata": {
            "tags": []
          },
          "execution_count": 262
        }
      ]
    },
    {
      "cell_type": "code",
      "metadata": {
        "colab": {
          "base_uri": "https://localhost:8080/"
        },
        "id": "PgS3Ml7_UJzf",
        "outputId": "1b392a6c-cb8d-4af5-be9c-6b349f57f8c0"
      },
      "source": [
        "print('\\nCalculating based on train data ')\n",
        "acc = clf.score(x_test,y_test)\n",
        "y_pred = clf.predict(x_test)\n",
        "accuracy = accuracy_score(y_test, y_pred)\n",
        "conf_mat = confusion_matrix(y_test,y_pred)"
      ],
      "execution_count": null,
      "outputs": [
        {
          "output_type": "stream",
          "text": [
            "\n",
            "Calculating based on train data \n"
          ],
          "name": "stdout"
        }
      ]
    },
    {
      "cell_type": "code",
      "metadata": {
        "colab": {
          "base_uri": "https://localhost:8080/"
        },
        "id": "hPFqHbvtUJlq",
        "outputId": "f14bba98-2878-4204-b9c6-43c37bd15f9c"
      },
      "source": [
        "print('\\nSVM Trained Classifier Accuracy: ',acc)\n",
        "print('\\nPredicted Values: ',y_pred)\n",
        "print('\\nAccuracy of Classifier on Validation Images: ',accuracy)\n",
        "print('\\nConfusion Matrix: \\n',conf_mat)"
      ],
      "execution_count": null,
      "outputs": [
        {
          "output_type": "stream",
          "text": [
            "\n",
            "SVM Trained Classifier Accuracy:  0.9395833333333333\n",
            "\n",
            "Predicted Values:  [1 1 2 ... 1 3 1]\n",
            "\n",
            "Accuracy of Classifier on Validation Images:  0.9395833333333333\n",
            "\n",
            "Confusion Matrix: \n",
            " [[1712    8   64   63]\n",
            " [   2 1763    7   16]\n",
            " [  68    3 1643   29]\n",
            " [  98   21   56 1647]]\n"
          ],
          "name": "stdout"
        }
      ]
    },
    {
      "cell_type": "code",
      "metadata": {
        "colab": {
          "base_uri": "https://localhost:8080/",
          "height": 257
        },
        "id": "sSl53HY1UJbz",
        "outputId": "48e56f4e-fab8-4390-a06e-3bc8b09cbfe6"
      },
      "source": [
        "plt.matshow(conf_mat)\n",
        "plt.title('Confusion Matrix for Validation Data')\n",
        "plt.colorbar()\n",
        "plt.ylabel('True label')\n",
        "plt.xlabel('Predicted label')\n",
        "plt.show()"
      ],
      "execution_count": null,
      "outputs": [
        {
          "output_type": "display_data",
          "data": {
            "image/png": "[encoded data removed]",
            "text/plain": [
              "<Figure size 288x288 with 2 Axes>"
            ]
          },
          "metadata": {
            "tags": [],
            "needs_background": "light"
          }
        }
      ]
    },
    {
      "cell_type": "markdown",
      "metadata": {
        "id": "gH8cA4quU0Ie"
      },
      "source": [
        "XGBoost"
      ]
    },
    {
      "cell_type": "code",
      "metadata": {
        "colab": {
          "base_uri": "https://localhost:8080/"
        },
        "id": "lM28rBD_UJLF",
        "outputId": "af2ccfc4-d676-4437-c601-2bd709177f78"
      },
      "source": [
        "from xgboost import XGBClassifier\n",
        "model = XGBClassifier()\n",
        "model.fit(x_train, y_train)"
      ],
      "execution_count": null,
      "outputs": [
        {
          "output_type": "execute_result",
          "data": {
            "text/plain": [
              "XGBClassifier(base_score=0.5, booster='gbtree', colsample_bylevel=1,\n",
              "              colsample_bynode=1, colsample_bytree=1, gamma=0,\n",
              "              learning_rate=0.1, max_delta_step=0, max_depth=3,\n",
              "              min_child_weight=1, missing=None, n_estimators=100, n_jobs=1,\n",
              "              nthread=None, objective='multi:softprob', random_state=0,\n",
              "              reg_alpha=0, reg_lambda=1, scale_pos_weight=1, seed=None,\n",
              "              silent=None, subsample=1, verbosity=1)"
            ]
          },
          "metadata": {
            "tags": []
          },
          "execution_count": 266
        }
      ]
    },
    {
      "cell_type": "code",
      "metadata": {
        "colab": {
          "base_uri": "https://localhost:8080/"
        },
        "id": "96fBHR8ZU8rN",
        "outputId": "477d152f-acbb-4980-b10a-84bf58f1230c"
      },
      "source": [
        "print('\\nCalculating based on train data ')\n",
        "acc2 = clf.score(x_test,y_test)\n",
        "y_pred2 = clf.predict(x_test)\n",
        "accuracy2 = accuracy_score(y_test, y_pred2)\n",
        "conf_mat2 = confusion_matrix(y_test,y_pred2)"
      ],
      "execution_count": null,
      "outputs": [
        {
          "output_type": "stream",
          "text": [
            "\n",
            "Calculating based on train data \n"
          ],
          "name": "stdout"
        }
      ]
    },
    {
      "cell_type": "code",
      "metadata": {
        "colab": {
          "base_uri": "https://localhost:8080/"
        },
        "id": "UHjR5_9aU8kU",
        "outputId": "53174567-470f-4c83-a5ef-00644078809d"
      },
      "source": [
        "print('\\nxgboost Trained Classifier Accuracy: ',acc2)\n",
        "print('\\nPredicted Values: ',y_pred2)\n",
        "print('\\nAccuracy of Classifier on Validation Images: ',accuracy2)\n",
        "print('\\nConfusion Matrix: \\n',conf_mat2)"
      ],
      "execution_count": null,
      "outputs": [
        {
          "output_type": "stream",
          "text": [
            "\n",
            "xgboost Trained Classifier Accuracy:  0.9395833333333333\n",
            "\n",
            "Predicted Values:  [1 1 2 ... 1 3 1]\n",
            "\n",
            "Accuracy of Classifier on Validation Images:  0.9395833333333333\n",
            "\n",
            "Confusion Matrix: \n",
            " [[1712    8   64   63]\n",
            " [   2 1763    7   16]\n",
            " [  68    3 1643   29]\n",
            " [  98   21   56 1647]]\n"
          ],
          "name": "stdout"
        }
      ]
    },
    {
      "cell_type": "code",
      "metadata": {
        "colab": {
          "base_uri": "https://localhost:8080/",
          "height": 257
        },
        "id": "kpOG8-r0U8OU",
        "outputId": "a836a7ed-becf-4984-bf01-0564154adaad"
      },
      "source": [
        "plt.matshow(conf_mat2)\n",
        "plt.title('Confusion Matrix for Validation Data')\n",
        "plt.colorbar()\n",
        "plt.ylabel('True label')\n",
        "plt.xlabel('Predicted label')\n",
        "plt.show()"
      ],
      "execution_count": null,
      "outputs": [
        {
          "output_type": "display_data",
          "data": {
            "image/png": "[encoded data removed]",
            "text/plain": [
              "<Figure size 288x288 with 2 Axes>"
            ]
          },
          "metadata": {
            "tags": [],
            "needs_background": "light"
          }
        }
      ]
    },
    {
      "cell_type": "markdown",
      "metadata": {
        "id": "xIWVzFjuVxvl"
      },
      "source": [
        "k-Nearest Neighbor classifier"
      ]
    },
    {
      "cell_type": "code",
      "metadata": {
        "colab": {
          "base_uri": "https://localhost:8080/"
        },
        "id": "8cBM5ADXU8KZ",
        "outputId": "ddb8a6e6-4cfb-481a-b4f5-8b6fdf597c03"
      },
      "source": [
        "from sklearn.neighbors import KNeighborsClassifier\n",
        "neigh = KNeighborsClassifier(n_neighbors=4)\n",
        "neigh.fit(x_train, y_train)"
      ],
      "execution_count": null,
      "outputs": [
        {
          "output_type": "execute_result",
          "data": {
            "text/plain": [
              "KNeighborsClassifier(algorithm='auto', leaf_size=30, metric='minkowski',\n",
              "                     metric_params=None, n_jobs=None, n_neighbors=4, p=2,\n",
              "                     weights='uniform')"
            ]
          },
          "metadata": {
            "tags": []
          },
          "execution_count": 270
        }
      ]
    },
    {
      "cell_type": "code",
      "metadata": {
        "colab": {
          "base_uri": "https://localhost:8080/"
        },
        "id": "HGJb2Q9bU7dX",
        "outputId": "1a7e3df3-62da-42e9-84fe-259008f0222e"
      },
      "source": [
        "print('\\nCalculating based on train data ')\n",
        "acc1 = clf.score(x_test,y_test)\n",
        "y_pred1 = clf.predict(x_test)\n",
        "accuracy1 = accuracy_score(y_test, y_pred1)\n",
        "conf_mat1 = confusion_matrix(y_test,y_pred1)"
      ],
      "execution_count": null,
      "outputs": [
        {
          "output_type": "stream",
          "text": [
            "\n",
            "Calculating based on train data \n"
          ],
          "name": "stdout"
        }
      ]
    },
    {
      "cell_type": "code",
      "metadata": {
        "colab": {
          "base_uri": "https://localhost:8080/"
        },
        "id": "0DwN1J7RV7qs",
        "outputId": "0c739912-9efa-4c3e-9444-d2283cdb3fe9"
      },
      "source": [
        "print('\\nSVM Trained Classifier Accuracy: ',acc1)\n",
        "print('\\nPredicted Values: ',y_pred1)\n",
        "print('\\nAccuracy of Classifier on Validation Images: ',accuracy1)\n",
        "print('\\nConfusion Matrix: \\n',conf_mat1)"
      ],
      "execution_count": null,
      "outputs": [
        {
          "output_type": "stream",
          "text": [
            "\n",
            "SVM Trained Classifier Accuracy:  0.9395833333333333\n",
            "\n",
            "Predicted Values:  [1 1 2 ... 1 3 1]\n",
            "\n",
            "Accuracy of Classifier on Validation Images:  0.9395833333333333\n",
            "\n",
            "Confusion Matrix: \n",
            " [[1712    8   64   63]\n",
            " [   2 1763    7   16]\n",
            " [  68    3 1643   29]\n",
            " [  98   21   56 1647]]\n"
          ],
          "name": "stdout"
        }
      ]
    },
    {
      "cell_type": "code",
      "metadata": {
        "colab": {
          "base_uri": "https://localhost:8080/",
          "height": 257
        },
        "id": "3BkbDrtZV7dY",
        "outputId": "cbe9a4a7-c556-4f69-ce19-32a8b3831586"
      },
      "source": [
        "plt.matshow(conf_mat1)\n",
        "plt.title('Confusion Matrix for Validation Data')\n",
        "plt.colorbar()\n",
        "plt.ylabel('True label')\n",
        "plt.xlabel('Predicted label')\n",
        "plt.show()"
      ],
      "execution_count": null,
      "outputs": [
        {
          "output_type": "display_data",
          "data": {
            "image/png": "[encoded data removed]",
            "text/plain": [
              "<Figure size 288x288 with 2 Axes>"
            ]
          },
          "metadata": {
            "tags": [],
            "needs_background": "light"
          }
        }
      ]
    },
    {
      "cell_type": "code",
      "metadata": {
        "id": "55iKoJDoV7Ty"
      },
      "source": [
        ""
      ],
      "execution_count": null,
      "outputs": []
    },
    {
      "cell_type": "code",
      "metadata": {
        "id": "4_m6-JwnV7HC"
      },
      "source": [
        ""
      ],
      "execution_count": null,
      "outputs": []
    },
    {
      "cell_type": "code",
      "metadata": {
        "id": "95NBRmZGvoO2"
      },
      "source": [
        ""
      ],
      "execution_count": null,
      "outputs": []
    },
    {
      "cell_type": "markdown",
      "metadata": {
        "id": "O68kuwOLvrYC"
      },
      "source": [
        "For Neural Network"
      ]
    },
    {
      "cell_type": "code",
      "metadata": {
        "id": "Gf9RRkpEv1zF"
      },
      "source": [
        "from keras import models\n",
        "import keras\n",
        "from keras.models import Sequential,load_model\n",
        "from keras.layers import Dense,Dropout,Flatten\n",
        "from keras import layers\n",
        "from sklearn.metrics import classification_report,confusion_matrix,roc_auc_score\n",
        "import numpy as np\n",
        "import matplotlib.pyplot as plt\n",
        "from keras.utils import to_categorical, plot_model\n",
        "from keras.losses import categorical_crossentropy\n",
        "import operator\n",
        "import pandas as pd\n",
        "\n",
        "X1= pd.read_csv('/content/fashion-mnist_train_cleaned.csv')\n",
        "Y1=pd.read_csv('/content/fashion-mnist_test_cleaned.csv') "
      ],
      "execution_count": 116,
      "outputs": []
    },
    {
      "cell_type": "code",
      "metadata": {
        "id": "I7uiMz_dv8y0"
      },
      "source": [
        "# droping the unnamed col\n",
        "X1=X1.drop('Unnamed: 0',1)\n",
        "Y1=Y1.drop('Unnamed: 0',1)"
      ],
      "execution_count": 117,
      "outputs": []
    },
    {
      "cell_type": "code",
      "metadata": {
        "id": "SGwYUyyDwDA-"
      },
      "source": [
        "# creating out the feature and class variable\n",
        "\n",
        "train_x=X1.iloc[:,1:]\n",
        "train_y=X1.iloc[:,0]\n",
        "test_x=Y1.iloc[:,1:]\n",
        "test_y=Y1.iloc[:,0]"
      ],
      "execution_count": 118,
      "outputs": []
    },
    {
      "cell_type": "code",
      "metadata": {
        "id": "6FKcw-BDriLZ"
      },
      "source": [
        "#reshaping\n",
        "def shape(arr):\n",
        "    x = np.reshape(arr, (len(arr), 784))\n",
        "    return x\n",
        "#here by passing the model you will get loss and accuracy \n",
        "def eve(x):\n",
        "  loss, accuracy = x.evaluate(val_x, val_y)\n",
        "  print(f\"Loss = {loss*100:.2f} %\")\n",
        "  print(f\"Accuracy = {accuracy*100:.2f} %\")\n",
        "  pred = x.predict(val_x)\n",
        "  predicted = np.argmax(pred, axis=1)\n",
        "  report = classification_report(np.argmax(val_y, axis=1), predicted)\n",
        "  print(report)\n",
        "  print('roc_aoc :',roc_auc_score(val_y,pred))\n",
        "\n",
        "def pic():\n",
        "  #Plot loss results for training data and testing data \n",
        "  plt.plot(history_NN3_50.history['loss'], 'blue')\n",
        "  plt.plot(history_NN3_50.history['val_loss'], 'orange')\n",
        "  plt.title('Model loss for the NN-3')\n",
        "  plt.ylabel('loss')\n",
        "  plt.xlabel('epoch')\n",
        "  plt.legend(['train', 'validate'], loc='upper left')\n",
        "  \n",
        "  \n",
        "\n",
        "#Training Data\n",
        "train_x_reshaped = shape(train_x).astype('float32')/255\n",
        "train_y = to_categorical(train_y)\n",
        "train_y = train_y.astype('float32')\n",
        "\n",
        "#test data\n",
        "test_x_reshaped = shape(test_x).astype('float32')/255\n",
        "test_y = to_categorical(test_y)\n",
        "test_y = test_y.astype('float32')\n",
        "\n",
        "#take out validation data, 20% \n",
        "partial_train_x = train_x_reshaped[:int(len(train_x_reshaped)*0.80)]\n",
        "partial_train_y = train_y[:int(len(train_y)*0.80)]\n",
        "\n",
        "val_x = train_x_reshaped[int(len(train_x_reshaped)*0.80):]\n",
        "val_y = train_y[int(len(train_y)*0.80):]"
      ],
      "execution_count": 119,
      "outputs": []
    },
    {
      "cell_type": "markdown",
      "metadata": {
        "id": "bvzUHXGCwz2r"
      },
      "source": [
        "Implement training and inference pipeline for 2-layer Neural Network "
      ]
    },
    {
      "cell_type": "code",
      "metadata": {
        "id": "N3QfnBzMs56F"
      },
      "source": [
        "#taking 2 hidden layer with activation function as relu\n",
        "\n",
        "def cre_model():\n",
        "  model=keras.Sequential([\n",
        "  keras.layers.Dense(64,input_shape=(28*28,)),\n",
        "  keras.layers.Dense(128,activation='relu'),\n",
        "  keras.layers.Dense(128,activation='relu'),\n",
        "  keras.layers.Dense(4,activation='sigmoid')])\n",
        "  model.compile(optimizer='adam',loss='categorical_crossentropy',metrics=['accuracy'])\n",
        "  return model"
      ],
      "execution_count": 120,
      "outputs": []
    },
    {
      "cell_type": "code",
      "metadata": {
        "id": "itxl8oeFuXQH"
      },
      "source": [
        "#creating mod1 and fitting with the validate data \n",
        "#in this case we are getting higher accuracy \n",
        "mod1=cre_model()"
      ],
      "execution_count": 121,
      "outputs": []
    },
    {
      "cell_type": "code",
      "metadata": {
        "colab": {
          "base_uri": "https://localhost:8080/"
        },
        "id": "tknsgM399-mr",
        "outputId": "ac35acf4-7f08-4b14-d4c2-fb040c1366f4"
      },
      "source": [
        "a1=mod1.fit(partial_train_x,partial_train_y,epochs=20)"
      ],
      "execution_count": 122,
      "outputs": [
        {
          "output_type": "stream",
          "text": [
            "Epoch 1/20\n",
            "600/600 [==============================] - 2s 2ms/step - loss: 0.3508 - accuracy: 0.8861\n",
            "Epoch 2/20\n",
            "600/600 [==============================] - 1s 2ms/step - loss: 0.1873 - accuracy: 0.9381\n",
            "Epoch 3/20\n",
            "600/600 [==============================] - 1s 2ms/step - loss: 0.1580 - accuracy: 0.9456\n",
            "Epoch 4/20\n",
            "600/600 [==============================] - 1s 2ms/step - loss: 0.1391 - accuracy: 0.9528\n",
            "Epoch 5/20\n",
            "600/600 [==============================] - 1s 2ms/step - loss: 0.1247 - accuracy: 0.9570\n",
            "Epoch 6/20\n",
            "600/600 [==============================] - 1s 2ms/step - loss: 0.1191 - accuracy: 0.9578\n",
            "Epoch 7/20\n",
            "600/600 [==============================] - 1s 2ms/step - loss: 0.1105 - accuracy: 0.9599\n",
            "Epoch 8/20\n",
            "600/600 [==============================] - 1s 2ms/step - loss: 0.0996 - accuracy: 0.9651\n",
            "Epoch 9/20\n",
            "600/600 [==============================] - 1s 2ms/step - loss: 0.1011 - accuracy: 0.9639\n",
            "Epoch 10/20\n",
            "600/600 [==============================] - 1s 2ms/step - loss: 0.0905 - accuracy: 0.9668\n",
            "Epoch 11/20\n",
            "600/600 [==============================] - 1s 2ms/step - loss: 0.0885 - accuracy: 0.9700\n",
            "Epoch 12/20\n",
            "600/600 [==============================] - 1s 2ms/step - loss: 0.0788 - accuracy: 0.9724\n",
            "Epoch 13/20\n",
            "600/600 [==============================] - 1s 2ms/step - loss: 0.0813 - accuracy: 0.9717\n",
            "Epoch 14/20\n",
            "600/600 [==============================] - 1s 2ms/step - loss: 0.0702 - accuracy: 0.9751\n",
            "Epoch 15/20\n",
            "600/600 [==============================] - 1s 2ms/step - loss: 0.0685 - accuracy: 0.9741\n",
            "Epoch 16/20\n",
            "600/600 [==============================] - 1s 2ms/step - loss: 0.0695 - accuracy: 0.9745\n",
            "Epoch 17/20\n",
            "600/600 [==============================] - 1s 2ms/step - loss: 0.0709 - accuracy: 0.9750\n",
            "Epoch 18/20\n",
            "600/600 [==============================] - 1s 2ms/step - loss: 0.0682 - accuracy: 0.9755\n",
            "Epoch 19/20\n",
            "600/600 [==============================] - 1s 2ms/step - loss: 0.0608 - accuracy: 0.9786\n",
            "Epoch 20/20\n",
            "600/600 [==============================] - 1s 2ms/step - loss: 0.0655 - accuracy: 0.9753\n"
          ],
          "name": "stdout"
        }
      ]
    },
    {
      "cell_type": "code",
      "metadata": {
        "colab": {
          "base_uri": "https://localhost:8080/"
        },
        "id": "XZPSxCYn9u4h",
        "outputId": "5960cbd7-ebe4-474c-d8ec-986e16c892ef"
      },
      "source": [
        "eve(mod1)"
      ],
      "execution_count": 123,
      "outputs": [
        {
          "output_type": "stream",
          "text": [
            "150/150 [==============================] - 0s 1ms/step - loss: 0.2000 - accuracy: 0.9554\n",
            "Loss = 20.00 %\n",
            "Accuracy = 95.54 %\n",
            "              precision    recall  f1-score   support\n",
            "\n",
            "           0       0.96      0.92      0.94      1190\n",
            "           1       0.98      0.99      0.98      1203\n",
            "           2       0.95      0.97      0.96      1218\n",
            "           3       0.94      0.95      0.94      1189\n",
            "\n",
            "    accuracy                           0.96      4800\n",
            "   macro avg       0.96      0.96      0.96      4800\n",
            "weighted avg       0.96      0.96      0.96      4800\n",
            "\n",
            "roc_aoc : 0.9841520648368229\n"
          ],
          "name": "stdout"
        }
      ]
    },
    {
      "cell_type": "code",
      "metadata": {
        "id": "hjgLhJD4yrXB"
      },
      "source": [
        "# cross validate by changing the activation functions \n",
        "def cre_model1():\n",
        "  model=keras.Sequential([\n",
        "  keras.layers.Dense(64,input_shape=(28*28,)),\n",
        "  keras.layers.Dense(128,activation='sigmoid'),\n",
        "  keras.layers.Dense(128,activation='relu'),\n",
        "  keras.layers.Dense(4,activation='tanh')])\n",
        "  model.compile(optimizer='adam',loss='categorical_crossentropy',metrics=['accuracy'])\n",
        "  return model\n",
        "\n",
        "def cre_model2():\n",
        "  model=keras.Sequential([\n",
        "  keras.layers.Dense(64,input_shape=(28*28,)),\n",
        "  keras.layers.Dense(128,activation='relu'),\n",
        "  keras.layers.Dense(128,activation='sigmoid'),\n",
        "  keras.layers.Dense(4,activation='tanh')])\n",
        "  model.compile(optimizer='adam',loss='categorical_crossentropy',metrics=['accuracy'])\n",
        "  return model"
      ],
      "execution_count": 124,
      "outputs": []
    },
    {
      "cell_type": "code",
      "metadata": {
        "id": "SIF5I8FUzdOA"
      },
      "source": [
        "mod2=cre_model1()\n",
        "mod3=cre_model2()"
      ],
      "execution_count": 125,
      "outputs": []
    },
    {
      "cell_type": "code",
      "metadata": {
        "colab": {
          "base_uri": "https://localhost:8080/"
        },
        "id": "WsLNACr50Z4j",
        "outputId": "83eabc77-e7ba-42b9-f14f-590e92e504ac"
      },
      "source": [
        "mod2.fit(partial_train_x,partial_train_y,epochs=10)\n",
        "\n",
        "#so for changing activation function to  accuracy getting reduced"
      ],
      "execution_count": 126,
      "outputs": [
        {
          "output_type": "stream",
          "text": [
            "Epoch 1/10\n",
            "600/600 [==============================] - 2s 2ms/step - loss: 7.9363 - accuracy: 0.2492\n",
            "Epoch 2/10\n",
            "600/600 [==============================] - 1s 2ms/step - loss: 8.0540 - accuracy: 0.2496\n",
            "Epoch 3/10\n",
            "600/600 [==============================] - 1s 2ms/step - loss: 8.1066 - accuracy: 0.2482\n",
            "Epoch 4/10\n",
            "600/600 [==============================] - 1s 2ms/step - loss: 8.0235 - accuracy: 0.2485\n",
            "Epoch 5/10\n",
            "600/600 [==============================] - 1s 2ms/step - loss: 7.9356 - accuracy: 0.2470\n",
            "Epoch 6/10\n",
            "600/600 [==============================] - 1s 2ms/step - loss: 7.9999 - accuracy: 0.2484\n",
            "Epoch 7/10\n",
            "600/600 [==============================] - 1s 2ms/step - loss: 8.1676 - accuracy: 0.2532\n",
            "Epoch 8/10\n",
            "600/600 [==============================] - 1s 2ms/step - loss: 7.9996 - accuracy: 0.2454\n",
            "Epoch 9/10\n",
            "600/600 [==============================] - 1s 2ms/step - loss: 8.0436 - accuracy: 0.2495\n",
            "Epoch 10/10\n",
            "600/600 [==============================] - 1s 2ms/step - loss: 8.0834 - accuracy: 0.2498\n"
          ],
          "name": "stdout"
        },
        {
          "output_type": "execute_result",
          "data": {
            "text/plain": [
              "<tensorflow.python.keras.callbacks.History at 0x7f6e8f192710>"
            ]
          },
          "metadata": {
            "tags": []
          },
          "execution_count": 126
        }
      ]
    },
    {
      "cell_type": "code",
      "metadata": {
        "colab": {
          "base_uri": "https://localhost:8080/"
        },
        "id": "iDuKlp2HJw6o",
        "outputId": "7b85fbc9-0e78-4500-aa93-979a0ddc7a90"
      },
      "source": [
        "eve(mod2)"
      ],
      "execution_count": 127,
      "outputs": [
        {
          "output_type": "stream",
          "text": [
            "150/150 [==============================] - 0s 1ms/step - loss: 8.0355 - accuracy: 0.2479\n",
            "Loss = 803.55 %\n",
            "Accuracy = 24.79 %\n",
            "              precision    recall  f1-score   support\n",
            "\n",
            "           0       0.25      1.00      0.40      1190\n",
            "           1       0.00      0.00      0.00      1203\n",
            "           2       0.00      0.00      0.00      1218\n",
            "           3       0.00      0.00      0.00      1189\n",
            "\n",
            "    accuracy                           0.25      4800\n",
            "   macro avg       0.06      0.25      0.10      4800\n",
            "weighted avg       0.06      0.25      0.10      4800\n",
            "\n",
            "roc_aoc : 0.4509495100515141\n"
          ],
          "name": "stdout"
        },
        {
          "output_type": "stream",
          "text": [
            "/usr/local/lib/python3.7/dist-packages/sklearn/metrics/_classification.py:1272: UndefinedMetricWarning: Precision and F-score are ill-defined and being set to 0.0 in labels with no predicted samples. Use `zero_division` parameter to control this behavior.\n",
            "  _warn_prf(average, modifier, msg_start, len(result))\n"
          ],
          "name": "stderr"
        }
      ]
    },
    {
      "cell_type": "code",
      "metadata": {
        "colab": {
          "base_uri": "https://localhost:8080/"
        },
        "id": "RuN4z91P0dpl",
        "outputId": "1e39f192-6829-44e7-c000-59db283c7e84"
      },
      "source": [
        "mod3.fit(partial_train_x,partial_train_y,epochs=10)\n",
        "# for this case also accuracy decreasing\n"
      ],
      "execution_count": 128,
      "outputs": [
        {
          "output_type": "stream",
          "text": [
            "Epoch 1/10\n",
            "600/600 [==============================] - 2s 2ms/step - loss: 7.7895 - accuracy: 0.2594\n",
            "Epoch 2/10\n",
            "600/600 [==============================] - 1s 2ms/step - loss: 8.0237 - accuracy: 0.2457\n",
            "Epoch 3/10\n",
            "600/600 [==============================] - 1s 2ms/step - loss: 8.1212 - accuracy: 0.2561\n",
            "Epoch 4/10\n",
            "600/600 [==============================] - 1s 2ms/step - loss: 8.0877 - accuracy: 0.2535\n",
            "Epoch 5/10\n",
            "600/600 [==============================] - 1s 2ms/step - loss: 7.9904 - accuracy: 0.2516\n",
            "Epoch 6/10\n",
            "600/600 [==============================] - 1s 2ms/step - loss: 8.0095 - accuracy: 0.2506\n",
            "Epoch 7/10\n",
            "600/600 [==============================] - 1s 2ms/step - loss: 8.1447 - accuracy: 0.2540\n",
            "Epoch 8/10\n",
            "600/600 [==============================] - 1s 2ms/step - loss: 8.0020 - accuracy: 0.2504\n",
            "Epoch 9/10\n",
            "600/600 [==============================] - 1s 2ms/step - loss: 8.0880 - accuracy: 0.2523\n",
            "Epoch 10/10\n",
            "600/600 [==============================] - 1s 2ms/step - loss: 8.1099 - accuracy: 0.2540\n"
          ],
          "name": "stdout"
        },
        {
          "output_type": "execute_result",
          "data": {
            "text/plain": [
              "<tensorflow.python.keras.callbacks.History at 0x7f6e74305850>"
            ]
          },
          "metadata": {
            "tags": []
          },
          "execution_count": 128
        }
      ]
    },
    {
      "cell_type": "code",
      "metadata": {
        "colab": {
          "base_uri": "https://localhost:8080/"
        },
        "id": "sneQNBEpJ7-9",
        "outputId": "1f3e3c7b-395f-423a-ab73-c75cba4ae772"
      },
      "source": [
        "eve(mod3)"
      ],
      "execution_count": 129,
      "outputs": [
        {
          "output_type": "stream",
          "text": [
            "150/150 [==============================] - 0s 1ms/step - loss: 8.0355 - accuracy: 0.2479\n",
            "Loss = 803.55 %\n",
            "Accuracy = 24.79 %\n",
            "              precision    recall  f1-score   support\n",
            "\n",
            "           0       0.25      1.00      0.40      1190\n",
            "           1       0.00      0.00      0.00      1203\n",
            "           2       0.00      0.00      0.00      1218\n",
            "           3       0.00      0.00      0.00      1189\n",
            "\n",
            "    accuracy                           0.25      4800\n",
            "   macro avg       0.06      0.25      0.10      4800\n",
            "weighted avg       0.06      0.25      0.10      4800\n",
            "\n",
            "roc_aoc : 0.5608349498572163\n"
          ],
          "name": "stdout"
        },
        {
          "output_type": "stream",
          "text": [
            "/usr/local/lib/python3.7/dist-packages/sklearn/metrics/_classification.py:1272: UndefinedMetricWarning: Precision and F-score are ill-defined and being set to 0.0 in labels with no predicted samples. Use `zero_division` parameter to control this behavior.\n",
            "  _warn_prf(average, modifier, msg_start, len(result))\n"
          ],
          "name": "stderr"
        }
      ]
    },
    {
      "cell_type": "markdown",
      "metadata": {
        "id": "thVp-UfK13Q_"
      },
      "source": [
        "Experiment with Architecture"
      ]
    },
    {
      "cell_type": "code",
      "metadata": {
        "id": "FcC2DbIf1vy1"
      },
      "source": [
        "# increasing no of layers\n",
        "\n",
        "def create_model():\n",
        "  model=keras.Sequential([\n",
        "  keras.layers.Dense(64,input_shape=(28*28,)),\n",
        "  keras.layers.Dense(128,activation='relu'),\n",
        "  keras.layers.Dense(128,activation='relu'),\n",
        "  keras.layers.Dense(64,activation='relu'),\n",
        "  keras.layers.Dense(64,activation='relu'),\n",
        "  keras.layers.Dense(64,activation='relu'),\n",
        "  keras.layers.Dense(4,activation='sigmoid')])\n",
        "  model.compile(optimizer='adam',loss='categorical_crossentropy',metrics=['accuracy'])\n",
        "  return model"
      ],
      "execution_count": 130,
      "outputs": []
    },
    {
      "cell_type": "code",
      "metadata": {
        "id": "E1rOzFJA1vvU"
      },
      "source": [
        "model1=create_model()"
      ],
      "execution_count": 131,
      "outputs": []
    },
    {
      "cell_type": "code",
      "metadata": {
        "colab": {
          "base_uri": "https://localhost:8080/"
        },
        "id": "TfmpFfQ71vtM",
        "outputId": "dbe29651-78c1-4174-c5a0-0ee1d1f92f01"
      },
      "source": [
        "# by increasing no  of layers and using relu as hiddel layers activation fun accuracy getting increased \n",
        "model1.fit(partial_train_x,partial_train_y,epochs=10)"
      ],
      "execution_count": 132,
      "outputs": [
        {
          "output_type": "stream",
          "text": [
            "Epoch 1/10\n",
            "600/600 [==============================] - 2s 3ms/step - loss: 0.3938 - accuracy: 0.8649\n",
            "Epoch 2/10\n",
            "600/600 [==============================] - 2s 3ms/step - loss: 0.1852 - accuracy: 0.9369\n",
            "Epoch 3/10\n",
            "600/600 [==============================] - 2s 3ms/step - loss: 0.1772 - accuracy: 0.9403\n",
            "Epoch 4/10\n",
            "600/600 [==============================] - 1s 2ms/step - loss: 0.1491 - accuracy: 0.9484\n",
            "Epoch 5/10\n",
            "600/600 [==============================] - 1s 2ms/step - loss: 0.1345 - accuracy: 0.9546\n",
            "Epoch 6/10\n",
            "600/600 [==============================] - 1s 2ms/step - loss: 0.1283 - accuracy: 0.9562\n",
            "Epoch 7/10\n",
            "600/600 [==============================] - 2s 3ms/step - loss: 0.1130 - accuracy: 0.9606\n",
            "Epoch 8/10\n",
            "600/600 [==============================] - 2s 3ms/step - loss: 0.1108 - accuracy: 0.9611\n",
            "Epoch 9/10\n",
            "600/600 [==============================] - 1s 2ms/step - loss: 0.1091 - accuracy: 0.9625\n",
            "Epoch 10/10\n",
            "600/600 [==============================] - 1s 2ms/step - loss: 0.1010 - accuracy: 0.9645\n"
          ],
          "name": "stdout"
        },
        {
          "output_type": "execute_result",
          "data": {
            "text/plain": [
              "<tensorflow.python.keras.callbacks.History at 0x7f6e733b49d0>"
            ]
          },
          "metadata": {
            "tags": []
          },
          "execution_count": 132
        }
      ]
    },
    {
      "cell_type": "code",
      "metadata": {
        "colab": {
          "base_uri": "https://localhost:8080/"
        },
        "id": "BxMZ-rmMKGMC",
        "outputId": "44548d21-6982-4ca8-e140-a7b12e467d66"
      },
      "source": [
        "eve(model1)"
      ],
      "execution_count": 133,
      "outputs": [
        {
          "output_type": "stream",
          "text": [
            "150/150 [==============================] - 0s 1ms/step - loss: 0.1430 - accuracy: 0.9569\n",
            "Loss = 14.30 %\n",
            "Accuracy = 95.69 %\n",
            "              precision    recall  f1-score   support\n",
            "\n",
            "           0       0.93      0.94      0.94      1190\n",
            "           1       0.99      0.98      0.99      1203\n",
            "           2       0.97      0.95      0.96      1218\n",
            "           3       0.93      0.95      0.94      1189\n",
            "\n",
            "    accuracy                           0.96      4800\n",
            "   macro avg       0.96      0.96      0.96      4800\n",
            "weighted avg       0.96      0.96      0.96      4800\n",
            "\n",
            "roc_aoc : 0.9922983876694461\n"
          ],
          "name": "stdout"
        }
      ]
    },
    {
      "cell_type": "code",
      "metadata": {
        "id": "uJxdMhvf3CQ6"
      },
      "source": [
        "#cross validating \n",
        "def create_model1():\n",
        "  model=keras.Sequential([\n",
        "  keras.layers.Dense(64,input_shape=(28*28,)),\n",
        "  keras.layers.Dense(128,activation='relu'),\n",
        "  keras.layers.Dense(128,activation='sigmoid'),\n",
        "  keras.layers.Dense(64,activation='relu'),\n",
        "  keras.layers.Dense(64,activation='sigmoid'),\n",
        "  keras.layers.Dense(64,activation='relu'),\n",
        "  keras.layers.Dense(4,activation='tanh')])\n",
        "  model.compile(optimizer='adam',loss='categorical_crossentropy',metrics=['accuracy'])\n",
        "  return model"
      ],
      "execution_count": 134,
      "outputs": []
    },
    {
      "cell_type": "code",
      "metadata": {
        "id": "PpRA3kvv3SnM"
      },
      "source": [
        "model2=create_model1()"
      ],
      "execution_count": 135,
      "outputs": []
    },
    {
      "cell_type": "code",
      "metadata": {
        "colab": {
          "base_uri": "https://localhost:8080/"
        },
        "id": "YuXLodIX3V1B",
        "outputId": "a33ef486-3a84-4976-9bbf-a68e1320ea9d"
      },
      "source": [
        "# here accuracy decreasing \n",
        "model2.fit(partial_train_x,partial_train_y,epochs=10)"
      ],
      "execution_count": 136,
      "outputs": [
        {
          "output_type": "stream",
          "text": [
            "Epoch 1/10\n",
            "600/600 [==============================] - 2s 2ms/step - loss: 8.0624 - accuracy: 0.2499\n",
            "Epoch 2/10\n",
            "600/600 [==============================] - 2s 3ms/step - loss: 7.9998 - accuracy: 0.2571\n",
            "Epoch 3/10\n",
            "600/600 [==============================] - 1s 2ms/step - loss: 8.0973 - accuracy: 0.2510\n",
            "Epoch 4/10\n",
            "600/600 [==============================] - 1s 2ms/step - loss: 8.0127 - accuracy: 0.2504\n",
            "Epoch 5/10\n",
            "600/600 [==============================] - 1s 2ms/step - loss: 8.0428 - accuracy: 0.2487\n",
            "Epoch 6/10\n",
            "600/600 [==============================] - 1s 2ms/step - loss: 8.0120 - accuracy: 0.2510\n",
            "Epoch 7/10\n",
            "600/600 [==============================] - 1s 2ms/step - loss: 8.0009 - accuracy: 0.2522\n",
            "Epoch 8/10\n",
            "600/600 [==============================] - 1s 2ms/step - loss: 8.1075 - accuracy: 0.2461\n",
            "Epoch 9/10\n",
            "600/600 [==============================] - 2s 3ms/step - loss: 8.1415 - accuracy: 0.2493\n",
            "Epoch 10/10\n",
            "600/600 [==============================] - 2s 3ms/step - loss: 8.1071 - accuracy: 0.2435\n"
          ],
          "name": "stdout"
        },
        {
          "output_type": "execute_result",
          "data": {
            "text/plain": [
              "<tensorflow.python.keras.callbacks.History at 0x7f6e73201ed0>"
            ]
          },
          "metadata": {
            "tags": []
          },
          "execution_count": 136
        }
      ]
    },
    {
      "cell_type": "code",
      "metadata": {
        "colab": {
          "base_uri": "https://localhost:8080/"
        },
        "id": "FNwPnZQqKMOl",
        "outputId": "02c11d99-90cd-4c23-b022-b22403373699"
      },
      "source": [
        "eve(model2)"
      ],
      "execution_count": 137,
      "outputs": [
        {
          "output_type": "stream",
          "text": [
            "150/150 [==============================] - 0s 2ms/step - loss: 8.0355 - accuracy: 0.2537\n",
            "Loss = 803.55 %\n",
            "Accuracy = 25.37 %\n",
            "              precision    recall  f1-score   support\n",
            "\n",
            "           0       0.00      0.00      0.00      1190\n",
            "           1       0.00      0.00      0.00      1203\n",
            "           2       0.25      1.00      0.40      1218\n",
            "           3       0.00      0.00      0.00      1189\n",
            "\n",
            "    accuracy                           0.25      4800\n",
            "   macro avg       0.06      0.25      0.10      4800\n",
            "weighted avg       0.06      0.25      0.10      4800\n",
            "\n",
            "roc_aoc : 0.45717610279885657\n"
          ],
          "name": "stdout"
        },
        {
          "output_type": "stream",
          "text": [
            "/usr/local/lib/python3.7/dist-packages/sklearn/metrics/_classification.py:1272: UndefinedMetricWarning: Precision and F-score are ill-defined and being set to 0.0 in labels with no predicted samples. Use `zero_division` parameter to control this behavior.\n",
            "  _warn_prf(average, modifier, msg_start, len(result))\n"
          ],
          "name": "stderr"
        }
      ]
    },
    {
      "cell_type": "markdown",
      "metadata": {
        "id": "j_FdF6nr4NzW"
      },
      "source": [
        "Dropout"
      ]
    },
    {
      "cell_type": "code",
      "metadata": {
        "id": "HvY5qkOV4Nby"
      },
      "source": [
        "#with 2 hidden layer adding two 30% dropout layers\n",
        "def dro_model():\n",
        "  model=keras.Sequential([\n",
        "  keras.layers.Dense(64,input_shape=(28*28,)),\n",
        "  keras.layers.Dropout(0.3),\n",
        "  keras.layers.Dense(128,activation='relu'),\n",
        "  layers.Dropout(0.3),\n",
        "  keras.layers.Dense(128,activation='relu'),\n",
        "  #layers.Dropout(0.3),\n",
        "  keras.layers.Dense(4,activation='sigmoid')])\n",
        "  model.compile(optimizer='adam',loss='categorical_crossentropy',metrics=['accuracy'])\n",
        "  return model"
      ],
      "execution_count": 138,
      "outputs": []
    },
    {
      "cell_type": "code",
      "metadata": {
        "id": "a8LoOnBZ4MZo"
      },
      "source": [
        "model3=dro_model()"
      ],
      "execution_count": 139,
      "outputs": []
    },
    {
      "cell_type": "code",
      "metadata": {
        "colab": {
          "base_uri": "https://localhost:8080/"
        },
        "id": "ZyAmV7qv5D3p",
        "outputId": "ec518125-f495-44a0-defe-f6ecab103b49"
      },
      "source": [
        "# accuracy increasing in case of using dropout\n",
        "model3.fit(partial_train_x,partial_train_y,epochs=10)"
      ],
      "execution_count": 140,
      "outputs": [
        {
          "output_type": "stream",
          "text": [
            "Epoch 1/10\n",
            "600/600 [==============================] - 2s 2ms/step - loss: 0.4314 - accuracy: 0.8474\n",
            "Epoch 2/10\n",
            "600/600 [==============================] - 1s 2ms/step - loss: 0.2343 - accuracy: 0.9236\n",
            "Epoch 3/10\n",
            "600/600 [==============================] - 1s 2ms/step - loss: 0.2014 - accuracy: 0.9326\n",
            "Epoch 4/10\n",
            "600/600 [==============================] - 1s 2ms/step - loss: 0.1883 - accuracy: 0.9375\n",
            "Epoch 5/10\n",
            "600/600 [==============================] - 1s 2ms/step - loss: 0.1811 - accuracy: 0.9379\n",
            "Epoch 6/10\n",
            "600/600 [==============================] - 1s 2ms/step - loss: 0.1808 - accuracy: 0.9375\n",
            "Epoch 7/10\n",
            "600/600 [==============================] - 1s 2ms/step - loss: 0.1599 - accuracy: 0.9430\n",
            "Epoch 8/10\n",
            "600/600 [==============================] - 1s 2ms/step - loss: 0.1598 - accuracy: 0.9460\n",
            "Epoch 9/10\n",
            "600/600 [==============================] - 1s 2ms/step - loss: 0.1494 - accuracy: 0.9495\n",
            "Epoch 10/10\n",
            "600/600 [==============================] - 1s 2ms/step - loss: 0.1511 - accuracy: 0.9455\n"
          ],
          "name": "stdout"
        },
        {
          "output_type": "execute_result",
          "data": {
            "text/plain": [
              "<tensorflow.python.keras.callbacks.History at 0x7f6e72ebb410>"
            ]
          },
          "metadata": {
            "tags": []
          },
          "execution_count": 140
        }
      ]
    },
    {
      "cell_type": "code",
      "metadata": {
        "colab": {
          "base_uri": "https://localhost:8080/"
        },
        "id": "5uN1X2UQKRxI",
        "outputId": "393ccc37-703f-4281-ff80-a35047fe4d33"
      },
      "source": [
        "eve(model3)"
      ],
      "execution_count": 141,
      "outputs": [
        {
          "output_type": "stream",
          "text": [
            "150/150 [==============================] - 0s 1ms/step - loss: 0.1617 - accuracy: 0.9475\n",
            "Loss = 16.17 %\n",
            "Accuracy = 94.75 %\n",
            "              precision    recall  f1-score   support\n",
            "\n",
            "           0       0.92      0.95      0.93      1190\n",
            "           1       0.99      0.97      0.98      1203\n",
            "           2       0.95      0.96      0.95      1218\n",
            "           3       0.94      0.90      0.92      1189\n",
            "\n",
            "    accuracy                           0.95      4800\n",
            "   macro avg       0.95      0.95      0.95      4800\n",
            "weighted avg       0.95      0.95      0.95      4800\n",
            "\n",
            "roc_aoc : 0.9832814883298201\n"
          ],
          "name": "stdout"
        }
      ]
    },
    {
      "cell_type": "markdown",
      "metadata": {
        "id": "Uwnq8heX51qB"
      },
      "source": [
        "Batch Normalisation"
      ]
    },
    {
      "cell_type": "code",
      "metadata": {
        "id": "qoZJOnUs52lu"
      },
      "source": [
        "#Adding BatchNormalization layer before each Dense layer\n",
        "def ba_model():\n",
        "  model=keras.Sequential([\n",
        "  keras.layers.BatchNormalization(),\n",
        "  keras.layers.Dense(64,input_shape=(28*28,)),\n",
        "  keras.layers.BatchNormalization(),\n",
        "  keras.layers.Dense(128,activation='sigmoid'),\n",
        "  keras.layers.BatchNormalization(),\n",
        "  keras.layers.Dense(128,activation='relu'),\n",
        "  keras.layers.BatchNormalization(),\n",
        "  keras.layers.Dense(4,activation='sigmoid')])\n",
        "  model.compile(optimizer='adam',loss='categorical_crossentropy',metrics=['accuracy'])\n",
        "  return model\n"
      ],
      "execution_count": 142,
      "outputs": []
    },
    {
      "cell_type": "code",
      "metadata": {
        "id": "6QgokoklnHtt"
      },
      "source": [
        ""
      ],
      "execution_count": null,
      "outputs": []
    },
    {
      "cell_type": "code",
      "metadata": {
        "id": "FBST_NdN6uYS"
      },
      "source": [
        "model4=ba_model()"
      ],
      "execution_count": 144,
      "outputs": []
    },
    {
      "cell_type": "code",
      "metadata": {
        "id": "zbP_7L0dnZZ2",
        "colab": {
          "base_uri": "https://localhost:8080/"
        },
        "outputId": "b7a78ac6-d347-4dbf-ff8b-a4c62bc5b16a"
      },
      "source": [
        "!mkdir training_1"
      ],
      "execution_count": 145,
      "outputs": [
        {
          "output_type": "stream",
          "text": [
            "mkdir: cannot create directory ‘training_1’: File exists\n"
          ],
          "name": "stdout"
        }
      ]
    },
    {
      "cell_type": "code",
      "metadata": {
        "id": "b6bPZAqIlBsz"
      },
      "source": [
        "import os\n",
        "checkpoint_path = \"training_1/weights.best.hdf5\"\n",
        "filepath = os.path.dirname(checkpoint_path)"
      ],
      "execution_count": 146,
      "outputs": []
    },
    {
      "cell_type": "code",
      "metadata": {
        "id": "cGpWjeZyjZld"
      },
      "source": [
        "from keras.callbacks import ModelCheckpoint\n",
        "checkpoint = ModelCheckpoint(filepath, monitor='accuracy', verbose=1, save_best_only=True, mode='max')\n",
        "callbacks_list = [checkpoint]"
      ],
      "execution_count": 147,
      "outputs": []
    },
    {
      "cell_type": "code",
      "metadata": {
        "colab": {
          "base_uri": "https://localhost:8080/"
        },
        "id": "G7RdI5Py6xW8",
        "outputId": "5dfc71eb-2019-491e-fcf2-56a38e31d2cb"
      },
      "source": [
        "# in case of batch normalization in every possible way the loss getting decreased and accuracies are improved \n",
        "model4.fit(partial_train_x,partial_train_y,epochs=25,steps_per_epoch=5,callbacks=callbacks_list)\n"
      ],
      "execution_count": 152,
      "outputs": [
        {
          "output_type": "stream",
          "text": [
            "Epoch 1/25\n",
            "5/5 [==============================] - 0s 97ms/step - loss: 0.0864 - accuracy: 0.9722\n",
            "\n",
            "Epoch 00001: accuracy improved from 0.97115 to 0.97224, saving model to training_1\n",
            "INFO:tensorflow:Assets written to: training_1/assets\n",
            "Epoch 2/25\n",
            "5/5 [==============================] - 0s 96ms/step - loss: 0.0841 - accuracy: 0.9732\n",
            "\n",
            "Epoch 00002: accuracy improved from 0.97224 to 0.97318, saving model to training_1\n",
            "INFO:tensorflow:Assets written to: training_1/assets\n",
            "Epoch 3/25\n",
            "5/5 [==============================] - 0s 96ms/step - loss: 0.0811 - accuracy: 0.9750\n",
            "\n",
            "Epoch 00003: accuracy improved from 0.97318 to 0.97500, saving model to training_1\n",
            "INFO:tensorflow:Assets written to: training_1/assets\n",
            "Epoch 4/25\n",
            "5/5 [==============================] - 0s 83ms/step - loss: 0.0788 - accuracy: 0.9758\n",
            "\n",
            "Epoch 00004: accuracy improved from 0.97500 to 0.97583, saving model to training_1\n",
            "INFO:tensorflow:Assets written to: training_1/assets\n",
            "Epoch 5/25\n",
            "5/5 [==============================] - 0s 94ms/step - loss: 0.0766 - accuracy: 0.9763\n",
            "\n",
            "Epoch 00005: accuracy improved from 0.97583 to 0.97630, saving model to training_1\n",
            "INFO:tensorflow:Assets written to: training_1/assets\n",
            "Epoch 6/25\n",
            "5/5 [==============================] - 0s 93ms/step - loss: 0.0745 - accuracy: 0.9772\n",
            "\n",
            "Epoch 00006: accuracy improved from 0.97630 to 0.97719, saving model to training_1\n",
            "INFO:tensorflow:Assets written to: training_1/assets\n",
            "Epoch 7/25\n",
            "5/5 [==============================] - 0s 92ms/step - loss: 0.0723 - accuracy: 0.9783\n",
            "\n",
            "Epoch 00007: accuracy improved from 0.97719 to 0.97828, saving model to training_1\n",
            "INFO:tensorflow:Assets written to: training_1/assets\n",
            "Epoch 8/25\n",
            "5/5 [==============================] - 0s 91ms/step - loss: 0.0694 - accuracy: 0.9794\n",
            "\n",
            "Epoch 00008: accuracy improved from 0.97828 to 0.97943, saving model to training_1\n",
            "INFO:tensorflow:Assets written to: training_1/assets\n",
            "Epoch 9/25\n",
            "5/5 [==============================] - 0s 92ms/step - loss: 0.0669 - accuracy: 0.9799\n",
            "\n",
            "Epoch 00009: accuracy improved from 0.97943 to 0.97995, saving model to training_1\n",
            "INFO:tensorflow:Assets written to: training_1/assets\n",
            "Epoch 10/25\n",
            "5/5 [==============================] - 0s 78ms/step - loss: 0.0650 - accuracy: 0.9808\n",
            "\n",
            "Epoch 00010: accuracy improved from 0.97995 to 0.98083, saving model to training_1\n",
            "INFO:tensorflow:Assets written to: training_1/assets\n",
            "Epoch 11/25\n",
            "5/5 [==============================] - 0s 93ms/step - loss: 0.0624 - accuracy: 0.9808\n",
            "\n",
            "Epoch 00011: accuracy did not improve from 0.98083\n",
            "Epoch 12/25\n",
            "5/5 [==============================] - 0s 98ms/step - loss: 0.0605 - accuracy: 0.9827\n",
            "\n",
            "Epoch 00012: accuracy improved from 0.98083 to 0.98271, saving model to training_1\n",
            "INFO:tensorflow:Assets written to: training_1/assets\n",
            "Epoch 13/25\n",
            "5/5 [==============================] - 0s 90ms/step - loss: 0.0585 - accuracy: 0.9836\n",
            "\n",
            "Epoch 00013: accuracy improved from 0.98271 to 0.98359, saving model to training_1\n",
            "INFO:tensorflow:Assets written to: training_1/assets\n",
            "Epoch 14/25\n",
            "5/5 [==============================] - 0s 91ms/step - loss: 0.0564 - accuracy: 0.9840\n",
            "\n",
            "Epoch 00014: accuracy improved from 0.98359 to 0.98396, saving model to training_1\n",
            "INFO:tensorflow:Assets written to: training_1/assets\n",
            "Epoch 15/25\n",
            "5/5 [==============================] - 0s 81ms/step - loss: 0.0560 - accuracy: 0.9843\n",
            "\n",
            "Epoch 00015: accuracy improved from 0.98396 to 0.98427, saving model to training_1\n",
            "INFO:tensorflow:Assets written to: training_1/assets\n",
            "Epoch 16/25\n",
            "5/5 [==============================] - 0s 91ms/step - loss: 0.0532 - accuracy: 0.9851\n",
            "\n",
            "Epoch 00016: accuracy improved from 0.98427 to 0.98510, saving model to training_1\n",
            "INFO:tensorflow:Assets written to: training_1/assets\n",
            "Epoch 17/25\n",
            "5/5 [==============================] - 0s 91ms/step - loss: 0.0512 - accuracy: 0.9862\n",
            "\n",
            "Epoch 00017: accuracy improved from 0.98510 to 0.98625, saving model to training_1\n",
            "INFO:tensorflow:Assets written to: training_1/assets\n",
            "Epoch 18/25\n",
            "5/5 [==============================] - 0s 95ms/step - loss: 0.0500 - accuracy: 0.9867\n",
            "\n",
            "Epoch 00018: accuracy improved from 0.98625 to 0.98672, saving model to training_1\n",
            "INFO:tensorflow:Assets written to: training_1/assets\n",
            "Epoch 19/25\n",
            "5/5 [==============================] - 0s 92ms/step - loss: 0.0469 - accuracy: 0.9877\n",
            "\n",
            "Epoch 00019: accuracy improved from 0.98672 to 0.98771, saving model to training_1\n",
            "INFO:tensorflow:Assets written to: training_1/assets\n",
            "Epoch 20/25\n",
            "5/5 [==============================] - 0s 90ms/step - loss: 0.0457 - accuracy: 0.9885\n",
            "\n",
            "Epoch 00020: accuracy improved from 0.98771 to 0.98849, saving model to training_1\n",
            "INFO:tensorflow:Assets written to: training_1/assets\n",
            "Epoch 21/25\n",
            "5/5 [==============================] - 0s 82ms/step - loss: 0.0438 - accuracy: 0.9894\n",
            "\n",
            "Epoch 00021: accuracy improved from 0.98849 to 0.98943, saving model to training_1\n",
            "INFO:tensorflow:Assets written to: training_1/assets\n",
            "Epoch 22/25\n",
            "5/5 [==============================] - 0s 93ms/step - loss: 0.0419 - accuracy: 0.9897\n",
            "\n",
            "Epoch 00022: accuracy improved from 0.98943 to 0.98969, saving model to training_1\n",
            "INFO:tensorflow:Assets written to: training_1/assets\n",
            "Epoch 23/25\n",
            "5/5 [==============================] - 0s 100ms/step - loss: 0.0400 - accuracy: 0.9900\n",
            "\n",
            "Epoch 00023: accuracy improved from 0.98969 to 0.99000, saving model to training_1\n",
            "INFO:tensorflow:Assets written to: training_1/assets\n",
            "Epoch 24/25\n",
            "5/5 [==============================] - 0s 92ms/step - loss: 0.0390 - accuracy: 0.9911\n",
            "\n",
            "Epoch 00024: accuracy improved from 0.99000 to 0.99109, saving model to training_1\n",
            "INFO:tensorflow:Assets written to: training_1/assets\n",
            "Epoch 25/25\n",
            "5/5 [==============================] - 0s 92ms/step - loss: 0.0371 - accuracy: 0.9922\n",
            "\n",
            "Epoch 00025: accuracy improved from 0.99109 to 0.99219, saving model to training_1\n",
            "INFO:tensorflow:Assets written to: training_1/assets\n"
          ],
          "name": "stdout"
        },
        {
          "output_type": "execute_result",
          "data": {
            "text/plain": [
              "<tensorflow.python.keras.callbacks.History at 0x7f6e735a1c50>"
            ]
          },
          "metadata": {
            "tags": []
          },
          "execution_count": 152
        }
      ]
    },
    {
      "cell_type": "code",
      "metadata": {
        "id": "6m9fDPw1sCkf"
      },
      "source": [
        ""
      ],
      "execution_count": null,
      "outputs": []
    },
    {
      "cell_type": "code",
      "metadata": {
        "colab": {
          "base_uri": "https://localhost:8080/"
        },
        "id": "ya9dFtbvql7H",
        "outputId": "094fddeb-35e4-4818-d507-f3d5e5a57cfa"
      },
      "source": [
        "os.listdir(filepath)"
      ],
      "execution_count": 149,
      "outputs": [
        {
          "output_type": "execute_result",
          "data": {
            "text/plain": [
              "['assets', 'saved_model.pb', 'variables']"
            ]
          },
          "metadata": {
            "tags": []
          },
          "execution_count": 149
        }
      ]
    },
    {
      "cell_type": "code",
      "metadata": {
        "id": "fxT1asZGnkYX",
        "colab": {
          "base_uri": "https://localhost:8080/"
        },
        "outputId": "4aaaf38b-c6e3-4197-d27d-1821d07da120"
      },
      "source": [
        "model4.summary()"
      ],
      "execution_count": 150,
      "outputs": [
        {
          "output_type": "stream",
          "text": [
            "Model: \"sequential_27\"\n",
            "_________________________________________________________________\n",
            "Layer (type)                 Output Shape              Param #   \n",
            "=================================================================\n",
            "batch_normalization_32 (Batc (None, 784)               3136      \n",
            "_________________________________________________________________\n",
            "dense_126 (Dense)            (None, 64)                50240     \n",
            "_________________________________________________________________\n",
            "batch_normalization_33 (Batc (None, 64)                256       \n",
            "_________________________________________________________________\n",
            "dense_127 (Dense)            (None, 128)               8320      \n",
            "_________________________________________________________________\n",
            "batch_normalization_34 (Batc (None, 128)               512       \n",
            "_________________________________________________________________\n",
            "dense_128 (Dense)            (None, 128)               16512     \n",
            "_________________________________________________________________\n",
            "batch_normalization_35 (Batc (None, 128)               512       \n",
            "_________________________________________________________________\n",
            "dense_129 (Dense)            (None, 4)                 516       \n",
            "=================================================================\n",
            "Total params: 80,004\n",
            "Trainable params: 77,796\n",
            "Non-trainable params: 2,208\n",
            "_________________________________________________________________\n"
          ],
          "name": "stdout"
        }
      ]
    },
    {
      "cell_type": "code",
      "metadata": {
        "colab": {
          "base_uri": "https://localhost:8080/"
        },
        "id": "nFwVBvVWKk2J",
        "outputId": "8d733454-d019-4f16-82d6-1bbd619b12a8"
      },
      "source": [
        "eve(model4)"
      ],
      "execution_count": 151,
      "outputs": [
        {
          "output_type": "stream",
          "text": [
            "150/150 [==============================] - 0s 1ms/step - loss: 0.7422 - accuracy: 0.9150\n",
            "Loss = 74.22 %\n",
            "Accuracy = 91.50 %\n",
            "              precision    recall  f1-score   support\n",
            "\n",
            "           0       0.85      0.95      0.90      1190\n",
            "           1       0.99      0.93      0.96      1203\n",
            "           2       0.95      0.88      0.92      1218\n",
            "           3       0.88      0.90      0.89      1189\n",
            "\n",
            "    accuracy                           0.92      4800\n",
            "   macro avg       0.92      0.92      0.92      4800\n",
            "weighted avg       0.92      0.92      0.92      4800\n",
            "\n",
            "roc_aoc : 0.9819731050280207\n"
          ],
          "name": "stdout"
        }
      ]
    },
    {
      "cell_type": "code",
      "metadata": {
        "colab": {
          "base_uri": "https://localhost:8080/"
        },
        "id": "hzOdNfo3OXI4",
        "outputId": "35fd969a-bcac-4a6b-ceb8-b3172d14e356"
      },
      "source": [
        "print(model4.history.history.keys())"
      ],
      "execution_count": null,
      "outputs": [
        {
          "output_type": "stream",
          "text": [
            "dict_keys([])\n"
          ],
          "name": "stdout"
        }
      ]
    }
  ]
}